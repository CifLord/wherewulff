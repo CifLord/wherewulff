{
 "cells": [
  {
   "cell_type": "code",
   "execution_count": 1,
   "metadata": {},
   "outputs": [],
   "source": [
    "import pymatgen \n",
    "from pymatgen import MPRester\n",
    "\n",
    "from tqdm import tqdm\n",
    "\n",
    "mpr = MPRester('P4HdMwi3vXyqDLeO')"
   ]
  },
  {
   "cell_type": "code",
   "execution_count": 2,
   "metadata": {},
   "outputs": [],
   "source": [
    "mpid_list = ['mp-1265',\n",
    "             'mp-20194',\n",
    "             'mp-1960',\n",
    "             'mp-361',\n",
    "             'mp-22598',\n",
    "             'mp-390',\n",
    "             'mp-2657',\n",
    "             'mp-825',\n",
    "             'mp-2723',\n",
    "             'mp-704645',\n",
    "             'mp-190',\n",
    "             'mp-1336',\n",
    "             'mp-2133',\n",
    "             'mp-560588',\n",
    "             'mp-1070']"
   ]
  },
  {
   "cell_type": "code",
   "execution_count": 3,
   "metadata": {},
   "outputs": [
    {
     "name": "stdout",
     "output_type": "stream",
     "text": [
      "15\n"
     ]
    }
   ],
   "source": [
    "print(len(mpid_list))"
   ]
  },
  {
   "cell_type": "code",
   "execution_count": 4,
   "metadata": {},
   "outputs": [],
   "source": [
    "data = []\n",
    "\n",
    "for mpid in mpid_list:\n",
    "    entries = mpr.query({\"material_id\": mpid}, ['material_id', 'pretty_formula', 'spacegroup', 'cif'])\n",
    "    data.extend(entries)"
   ]
  },
  {
   "cell_type": "code",
   "execution_count": 5,
   "metadata": {},
   "outputs": [
    {
     "name": "stderr",
     "output_type": "stream",
     "text": [
      "100%|██████████| 15/15 [00:00<00:00, 20901.85it/s]\n"
     ]
    }
   ],
   "source": [
    "import os\n",
    "\n",
    "if not os.path.exists('mp_oxide_cifs'):\n",
    "    os.mkdir('mp_oxide_cifs')\n",
    "\n",
    "for d in tqdm(data):\n",
    "    with open(\"mp_oxide_cifs/{}.cif\".format(d[\"pretty_formula\"]+\"_\"+str(d['spacegroup']['number'])), 'w') as f:\n",
    "        f.write(d[\"cif\"])"
   ]
  },
  {
   "cell_type": "code",
   "execution_count": null,
   "metadata": {},
   "outputs": [],
   "source": []
  },
  {
   "cell_type": "code",
   "execution_count": null,
   "metadata": {},
   "outputs": [],
   "source": []
  },
  {
   "cell_type": "code",
   "execution_count": null,
   "metadata": {},
   "outputs": [],
   "source": []
  }
 ],
 "metadata": {
  "kernelspec": {
   "display_name": "Python 3",
   "language": "python",
   "name": "python3"
  },
  "language_info": {
   "codemirror_mode": {
    "name": "ipython",
    "version": 3
   },
   "file_extension": ".py",
   "mimetype": "text/x-python",
   "name": "python",
   "nbconvert_exporter": "python",
   "pygments_lexer": "ipython3",
   "version": "3.7.6"
  }
 },
 "nbformat": 4,
 "nbformat_minor": 4
}
